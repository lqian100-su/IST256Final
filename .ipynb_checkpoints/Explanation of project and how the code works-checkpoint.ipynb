{
 "cells": [
  {
   "cell_type": "markdown",
   "metadata": {},
   "source": [
    "Explanation of Project 22- Travel Buddy\n",
    "\n",
    "Group Members and Contributions\n",
    "Liuqi Qian - code for the description of the countries, overall organization of codes. Video and poster\n",
    "Eden Tafesse - code for getting the weather for the cities, code for currency exchange(function). Video, major contributor of poster.\n",
    "Jiaqiao Wang - code for the currency exchange(dictionary), top restaurants in the city and the time zones. Video and poster.\n",
    "\n",
    "\n"
   ]
  },
  {
   "cell_type": "markdown",
   "metadata": {},
   "source": [
    "How the code works:\n",
    "Inputs:\n",
    "City \n",
    "Country\n",
    "Outputs:\n",
    "Country\n",
    "Description of the country (location, population, capital city, language and currency)\n",
    "Optional: Currency exchange, the amount in local currency.\n",
    "City\n",
    "Top 3 restaurants in that area (Type of restaurants, Name of restaurants, Ratings, Average cost for two people)\n",
    "Time Zone and exact time of the city\n",
    "Temperature of the city\n",
    "Algorithm:\n",
    "Create list of currency types.\n",
    "Create list of exchange rate from USD to other currency.\n",
    "Create a dictionary based on the lists.\n",
    "Create function using the dictionary to do currency exchange.\n",
    "Import all the necessary protocols and tools\n",
    "Get and decode the API for description of Countries\n",
    "Create list of data frames based on the variables in the decoded json file.\n",
    "Create user input for country \n",
    "If input in the list\n",
    "Print the desired output for country\n",
    "Else\n",
    "\tPrint error message.\n",
    "Create user input currency(if the user wants currency exchange Y/N)\n",
    "Try\n",
    "If ‘Y’\n",
    "\tCreate user input amount of money for conversion. \n",
    "Print the amount in desired currency using the function\n",
    "If ‘N’\n",
    "Quit\n",
    "Except\n",
    "\tPrint error message\n",
    "\n",
    "Print heading of second part “Now the cities”\n",
    "Get the url and create a local file using urllib\n",
    "Modify the file so that it can find time-zones based on city inputs\n",
    "Create dictionary of cities and time zones based on the file\n",
    "Define formats of output\n",
    "Create user input-city\n",
    "Print output time zones and exact time using the dictionary we created and pytz in the format we defined\n",
    "\n",
    "Use requests and json to get the city ID of inputted city in the zomato API\n",
    "Use city ID and the zomato restaurant finder API to get the response of best restaurants in the area of inputted city.\n",
    "Print desired output by calling specific keys in the dictionary \n",
    "\n",
    "Get and decode API for temperature lookup\n",
    "If request is successful\n",
    "\tPrint the temperature of the inputted city \n",
    "Else\n",
    "\tPrint error message\n",
    "\n",
    "\n",
    "\n",
    "\n",
    "\n"
   ]
  },
  {
   "cell_type": "code",
   "execution_count": null,
   "metadata": {
    "collapsed": true
   },
   "outputs": [],
   "source": []
  }
 ],
 "metadata": {
  "kernelspec": {
   "display_name": "Python 3",
   "language": "python",
   "name": "python3"
  },
  "language_info": {
   "codemirror_mode": {
    "name": "ipython",
    "version": 3
   },
   "file_extension": ".py",
   "mimetype": "text/x-python",
   "name": "python",
   "nbconvert_exporter": "python",
   "pygments_lexer": "ipython3",
   "version": "3.6.1"
  }
 },
 "nbformat": 4,
 "nbformat_minor": 2
}
